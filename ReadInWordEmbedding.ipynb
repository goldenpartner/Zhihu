{
 "cells": [
  {
   "cell_type": "code",
   "execution_count": 1,
   "metadata": {
    "collapsed": true
   },
   "outputs": [],
   "source": [
    "import pandas as pd\n",
    "import numpy as np\n",
    "import matplotlib.pyplot as plt \n",
    "import word2vec as wv"
   ]
  },
  {
   "cell_type": "markdown",
   "metadata": {},
   "source": [
    "# Use word2vec to read the file"
   ]
  },
  {
   "cell_type": "code",
   "execution_count": null,
   "metadata": {
    "collapsed": true
   },
   "outputs": [],
   "source": [
    "char_embedding = wv.load('ieee_zhihu_cup/char_embedding.txt')"
   ]
  },
  {
   "cell_type": "code",
   "execution_count": 2,
   "metadata": {
    "collapsed": false
   },
   "outputs": [],
   "source": [
    "word_embedding = wv.load('ieee_zhihu_cup/word_embedding.txt')"
   ]
  },
  {
   "cell_type": "markdown",
   "metadata": {},
   "source": [
    "## The next cell shows all the words in a list"
   ]
  },
  {
   "cell_type": "code",
   "execution_count": 3,
   "metadata": {
    "collapsed": false,
    "scrolled": true
   },
   "outputs": [
    {
     "data": {
      "text/plain": [
       "array(['</s>', 'w11', 'w54', ..., 'w125081', 'w125663', 'w133825'], \n",
       "      dtype='<U78')"
      ]
     },
     "execution_count": 3,
     "metadata": {},
     "output_type": "execute_result"
    }
   ],
   "source": [
    "word_embedding.vocab"
   ]
  },
  {
   "cell_type": "markdown",
   "metadata": {},
   "source": [
    "## The next cell shows the statistic information of word_embedding"
   ]
  },
  {
   "cell_type": "code",
   "execution_count": 4,
   "metadata": {
    "collapsed": false
   },
   "outputs": [
    {
     "data": {
      "text/plain": [
       "(411720, 256)"
      ]
     },
     "execution_count": 4,
     "metadata": {},
     "output_type": "execute_result"
    }
   ],
   "source": [
    "word_embedding.vectors.shape"
   ]
  },
  {
   "cell_type": "markdown",
   "metadata": {},
   "source": [
    "## The next cell shows the first 10 entries of word 'w11'"
   ]
  },
  {
   "cell_type": "code",
   "execution_count": 5,
   "metadata": {
    "collapsed": false
   },
   "outputs": [
    {
     "data": {
      "text/plain": [
       "array([ 0.04701679, -0.00843652, -0.01348642, -0.03767202,  0.09197563,\n",
       "       -0.01080581, -0.07711151, -0.06186988,  0.04785763, -0.00975661])"
      ]
     },
     "execution_count": 5,
     "metadata": {},
     "output_type": "execute_result"
    }
   ],
   "source": [
    "word_embedding['w11'][:10]"
   ]
  },
  {
   "cell_type": "code",
   "execution_count": 6,
   "metadata": {
    "collapsed": false,
    "scrolled": true
   },
   "outputs": [
    {
     "name": "stdout",
     "output_type": "stream",
     "text": [
      "</s> [ 0.07311916  0.04990149 -0.05353269 -0.00583193 -0.0102884 ]\n",
      "w11 [ 0.04701679 -0.00843652 -0.01348642 -0.03767202  0.09197563]\n",
      "w54 [ 0.15583396  0.05792532  0.1083082   0.00382044  0.01467938]\n",
      "w6 [ 0.00973895 -0.02250912  0.05688837  0.08448554 -0.02082798]\n",
      "w111 [ 0.04724413 -0.04447697  0.12555343 -0.05835187 -0.01609538]\n",
      "w23 [ 0.07297992  0.06402551  0.0333106  -0.03581641 -0.00260801]\n",
      "w2828 [-0.05710809 -0.0467572   0.02253871 -0.04514641  0.04800387]\n",
      "w25 [ 0.05658318  0.05118219  0.07779621 -0.04954022 -0.07439187]\n",
      "w144487 [ 0.06651055 -0.05292702 -0.04415916 -0.05700968 -0.02362429]\n",
      "w72 [ 0.05197637 -0.04218844  0.09201544 -0.09479809  0.00563769]\n"
     ]
    }
   ],
   "source": [
    "for i in range(10):\n",
    "    word = word_embedding.vocab[i]\n",
    "    print(word, word_embedding[word][:5])"
   ]
  },
  {
   "cell_type": "markdown",
   "metadata": {},
   "source": [
    "# Use pandas.dataframe to read the file"
   ]
  },
  {
   "cell_type": "markdown",
   "metadata": {},
   "source": [
    "## The next cell reads the file and edits it to proper format"
   ]
  },
  {
   "cell_type": "code",
   "execution_count": 13,
   "metadata": {
    "collapsed": false
   },
   "outputs": [],
   "source": [
    "name = ['word']\n",
    "for i in range(256):\n",
    "    name.append('d'+str(i))\n",
    "df_word_embedding = pd.read_csv('ieee_zhihu_cup/word_embedding.txt', header=None, names=name,sep=' ')\n",
    "df_word_embedding = df_word_embedding[df_word_embedding.word != '411720']"
   ]
  },
  {
   "cell_type": "markdown",
   "metadata": {},
   "source": [
    "## The next cell shows the first 10 entries of the dataframe"
   ]
  },
  {
   "cell_type": "code",
   "execution_count": 17,
   "metadata": {
    "collapsed": false
   },
   "outputs": [
    {
     "data": {
      "text/html": [
       "<div>\n",
       "<table border=\"1\" class=\"dataframe\">\n",
       "  <thead>\n",
       "    <tr style=\"text-align: right;\">\n",
       "      <th></th>\n",
       "      <th>word</th>\n",
       "      <th>d0</th>\n",
       "      <th>d1</th>\n",
       "      <th>d2</th>\n",
       "      <th>d3</th>\n",
       "      <th>d4</th>\n",
       "      <th>d5</th>\n",
       "      <th>d6</th>\n",
       "      <th>d7</th>\n",
       "      <th>d8</th>\n",
       "      <th>...</th>\n",
       "      <th>d246</th>\n",
       "      <th>d247</th>\n",
       "      <th>d248</th>\n",
       "      <th>d249</th>\n",
       "      <th>d250</th>\n",
       "      <th>d251</th>\n",
       "      <th>d252</th>\n",
       "      <th>d253</th>\n",
       "      <th>d254</th>\n",
       "      <th>d255</th>\n",
       "    </tr>\n",
       "  </thead>\n",
       "  <tbody>\n",
       "    <tr>\n",
       "      <th>1</th>\n",
       "      <td>&lt;/s&gt;</td>\n",
       "      <td>0.001329</td>\n",
       "      <td>0.000907</td>\n",
       "      <td>-0.000973</td>\n",
       "      <td>-0.000106</td>\n",
       "      <td>-0.000187</td>\n",
       "      <td>0.001701</td>\n",
       "      <td>0.000681</td>\n",
       "      <td>0.000016</td>\n",
       "      <td>-0.000586</td>\n",
       "      <td>...</td>\n",
       "      <td>0.001642</td>\n",
       "      <td>0.001284</td>\n",
       "      <td>0.001235</td>\n",
       "      <td>0.001316</td>\n",
       "      <td>-0.001199</td>\n",
       "      <td>0.000117</td>\n",
       "      <td>-0.001856</td>\n",
       "      <td>0.000397</td>\n",
       "      <td>0.001417</td>\n",
       "      <td>-0.000385</td>\n",
       "    </tr>\n",
       "    <tr>\n",
       "      <th>2</th>\n",
       "      <td>w11</td>\n",
       "      <td>0.038359</td>\n",
       "      <td>-0.006883</td>\n",
       "      <td>-0.011003</td>\n",
       "      <td>-0.030735</td>\n",
       "      <td>0.075039</td>\n",
       "      <td>-0.008816</td>\n",
       "      <td>-0.062912</td>\n",
       "      <td>-0.050477</td>\n",
       "      <td>0.039045</td>\n",
       "      <td>...</td>\n",
       "      <td>-0.034574</td>\n",
       "      <td>0.069811</td>\n",
       "      <td>0.031076</td>\n",
       "      <td>0.054792</td>\n",
       "      <td>0.036038</td>\n",
       "      <td>-0.072949</td>\n",
       "      <td>-0.088780</td>\n",
       "      <td>0.016240</td>\n",
       "      <td>0.055779</td>\n",
       "      <td>-0.002256</td>\n",
       "    </tr>\n",
       "    <tr>\n",
       "      <th>3</th>\n",
       "      <td>w54</td>\n",
       "      <td>0.132974</td>\n",
       "      <td>0.049428</td>\n",
       "      <td>0.092420</td>\n",
       "      <td>0.003260</td>\n",
       "      <td>0.012526</td>\n",
       "      <td>0.061380</td>\n",
       "      <td>0.073685</td>\n",
       "      <td>0.033677</td>\n",
       "      <td>0.052528</td>\n",
       "      <td>...</td>\n",
       "      <td>-0.029963</td>\n",
       "      <td>0.054913</td>\n",
       "      <td>0.012286</td>\n",
       "      <td>-0.005045</td>\n",
       "      <td>-0.050674</td>\n",
       "      <td>-0.029782</td>\n",
       "      <td>-0.112984</td>\n",
       "      <td>0.044356</td>\n",
       "      <td>0.028351</td>\n",
       "      <td>-0.057927</td>\n",
       "    </tr>\n",
       "    <tr>\n",
       "      <th>4</th>\n",
       "      <td>w6</td>\n",
       "      <td>0.009825</td>\n",
       "      <td>-0.022708</td>\n",
       "      <td>0.057391</td>\n",
       "      <td>0.085232</td>\n",
       "      <td>-0.021012</td>\n",
       "      <td>-0.056707</td>\n",
       "      <td>0.013063</td>\n",
       "      <td>-0.038666</td>\n",
       "      <td>-0.056508</td>\n",
       "      <td>...</td>\n",
       "      <td>-0.007118</td>\n",
       "      <td>0.100385</td>\n",
       "      <td>0.010787</td>\n",
       "      <td>0.047523</td>\n",
       "      <td>-0.176116</td>\n",
       "      <td>-0.008825</td>\n",
       "      <td>-0.018970</td>\n",
       "      <td>0.032186</td>\n",
       "      <td>-0.062461</td>\n",
       "      <td>-0.034461</td>\n",
       "    </tr>\n",
       "    <tr>\n",
       "      <th>5</th>\n",
       "      <td>w111</td>\n",
       "      <td>0.061617</td>\n",
       "      <td>-0.058008</td>\n",
       "      <td>0.163750</td>\n",
       "      <td>-0.076104</td>\n",
       "      <td>-0.020992</td>\n",
       "      <td>0.009527</td>\n",
       "      <td>-0.102899</td>\n",
       "      <td>0.068521</td>\n",
       "      <td>0.057219</td>\n",
       "      <td>...</td>\n",
       "      <td>-0.109304</td>\n",
       "      <td>-0.002613</td>\n",
       "      <td>0.030708</td>\n",
       "      <td>0.058562</td>\n",
       "      <td>0.035260</td>\n",
       "      <td>-0.081912</td>\n",
       "      <td>-0.218533</td>\n",
       "      <td>0.172345</td>\n",
       "      <td>0.033056</td>\n",
       "      <td>-0.091789</td>\n",
       "    </tr>\n",
       "    <tr>\n",
       "      <th>6</th>\n",
       "      <td>w23</td>\n",
       "      <td>0.059268</td>\n",
       "      <td>0.051996</td>\n",
       "      <td>0.027052</td>\n",
       "      <td>-0.029087</td>\n",
       "      <td>-0.002118</td>\n",
       "      <td>0.038712</td>\n",
       "      <td>0.009237</td>\n",
       "      <td>-0.049341</td>\n",
       "      <td>0.059022</td>\n",
       "      <td>...</td>\n",
       "      <td>-0.027199</td>\n",
       "      <td>-0.003745</td>\n",
       "      <td>0.023819</td>\n",
       "      <td>0.052732</td>\n",
       "      <td>0.054734</td>\n",
       "      <td>-0.073157</td>\n",
       "      <td>-0.088063</td>\n",
       "      <td>0.016789</td>\n",
       "      <td>0.067700</td>\n",
       "      <td>-0.039468</td>\n",
       "    </tr>\n",
       "    <tr>\n",
       "      <th>7</th>\n",
       "      <td>w2828</td>\n",
       "      <td>-0.059597</td>\n",
       "      <td>-0.048795</td>\n",
       "      <td>0.023521</td>\n",
       "      <td>-0.047114</td>\n",
       "      <td>0.050096</td>\n",
       "      <td>-0.073045</td>\n",
       "      <td>0.086546</td>\n",
       "      <td>-0.022372</td>\n",
       "      <td>0.064438</td>\n",
       "      <td>...</td>\n",
       "      <td>0.028355</td>\n",
       "      <td>-0.023754</td>\n",
       "      <td>-0.082100</td>\n",
       "      <td>-0.036005</td>\n",
       "      <td>-0.038378</td>\n",
       "      <td>-0.059767</td>\n",
       "      <td>0.120286</td>\n",
       "      <td>-0.023134</td>\n",
       "      <td>0.097636</td>\n",
       "      <td>-0.014564</td>\n",
       "    </tr>\n",
       "    <tr>\n",
       "      <th>8</th>\n",
       "      <td>w25</td>\n",
       "      <td>0.087426</td>\n",
       "      <td>0.079081</td>\n",
       "      <td>0.120202</td>\n",
       "      <td>-0.076544</td>\n",
       "      <td>-0.114942</td>\n",
       "      <td>0.145743</td>\n",
       "      <td>-0.056422</td>\n",
       "      <td>-0.135846</td>\n",
       "      <td>-0.030356</td>\n",
       "      <td>...</td>\n",
       "      <td>0.003388</td>\n",
       "      <td>-0.064956</td>\n",
       "      <td>0.215967</td>\n",
       "      <td>-0.023826</td>\n",
       "      <td>-0.046435</td>\n",
       "      <td>-0.002761</td>\n",
       "      <td>0.065656</td>\n",
       "      <td>0.000206</td>\n",
       "      <td>-0.111923</td>\n",
       "      <td>-0.088989</td>\n",
       "    </tr>\n",
       "    <tr>\n",
       "      <th>9</th>\n",
       "      <td>w144487</td>\n",
       "      <td>0.195264</td>\n",
       "      <td>-0.155385</td>\n",
       "      <td>-0.129644</td>\n",
       "      <td>-0.167371</td>\n",
       "      <td>-0.069357</td>\n",
       "      <td>0.170101</td>\n",
       "      <td>0.175858</td>\n",
       "      <td>0.110286</td>\n",
       "      <td>-0.221787</td>\n",
       "      <td>...</td>\n",
       "      <td>0.150716</td>\n",
       "      <td>-0.013433</td>\n",
       "      <td>0.096098</td>\n",
       "      <td>0.461153</td>\n",
       "      <td>0.152352</td>\n",
       "      <td>0.007655</td>\n",
       "      <td>-0.099795</td>\n",
       "      <td>-0.187423</td>\n",
       "      <td>-0.060404</td>\n",
       "      <td>0.103117</td>\n",
       "    </tr>\n",
       "    <tr>\n",
       "      <th>10</th>\n",
       "      <td>w72</td>\n",
       "      <td>0.068943</td>\n",
       "      <td>-0.055960</td>\n",
       "      <td>0.122052</td>\n",
       "      <td>-0.125743</td>\n",
       "      <td>0.007478</td>\n",
       "      <td>0.003016</td>\n",
       "      <td>-0.030116</td>\n",
       "      <td>0.023366</td>\n",
       "      <td>0.119410</td>\n",
       "      <td>...</td>\n",
       "      <td>0.027569</td>\n",
       "      <td>0.069129</td>\n",
       "      <td>-0.036491</td>\n",
       "      <td>-0.063209</td>\n",
       "      <td>0.040568</td>\n",
       "      <td>-0.063742</td>\n",
       "      <td>0.039268</td>\n",
       "      <td>0.010968</td>\n",
       "      <td>0.018101</td>\n",
       "      <td>0.098532</td>\n",
       "    </tr>\n",
       "  </tbody>\n",
       "</table>\n",
       "<p>10 rows × 257 columns</p>\n",
       "</div>"
      ],
      "text/plain": [
       "       word        d0        d1        d2        d3        d4        d5  \\\n",
       "1      </s>  0.001329  0.000907 -0.000973 -0.000106 -0.000187  0.001701   \n",
       "2       w11  0.038359 -0.006883 -0.011003 -0.030735  0.075039 -0.008816   \n",
       "3       w54  0.132974  0.049428  0.092420  0.003260  0.012526  0.061380   \n",
       "4        w6  0.009825 -0.022708  0.057391  0.085232 -0.021012 -0.056707   \n",
       "5      w111  0.061617 -0.058008  0.163750 -0.076104 -0.020992  0.009527   \n",
       "6       w23  0.059268  0.051996  0.027052 -0.029087 -0.002118  0.038712   \n",
       "7     w2828 -0.059597 -0.048795  0.023521 -0.047114  0.050096 -0.073045   \n",
       "8       w25  0.087426  0.079081  0.120202 -0.076544 -0.114942  0.145743   \n",
       "9   w144487  0.195264 -0.155385 -0.129644 -0.167371 -0.069357  0.170101   \n",
       "10      w72  0.068943 -0.055960  0.122052 -0.125743  0.007478  0.003016   \n",
       "\n",
       "          d6        d7        d8    ...         d246      d247      d248  \\\n",
       "1   0.000681  0.000016 -0.000586    ...     0.001642  0.001284  0.001235   \n",
       "2  -0.062912 -0.050477  0.039045    ...    -0.034574  0.069811  0.031076   \n",
       "3   0.073685  0.033677  0.052528    ...    -0.029963  0.054913  0.012286   \n",
       "4   0.013063 -0.038666 -0.056508    ...    -0.007118  0.100385  0.010787   \n",
       "5  -0.102899  0.068521  0.057219    ...    -0.109304 -0.002613  0.030708   \n",
       "6   0.009237 -0.049341  0.059022    ...    -0.027199 -0.003745  0.023819   \n",
       "7   0.086546 -0.022372  0.064438    ...     0.028355 -0.023754 -0.082100   \n",
       "8  -0.056422 -0.135846 -0.030356    ...     0.003388 -0.064956  0.215967   \n",
       "9   0.175858  0.110286 -0.221787    ...     0.150716 -0.013433  0.096098   \n",
       "10 -0.030116  0.023366  0.119410    ...     0.027569  0.069129 -0.036491   \n",
       "\n",
       "        d249      d250      d251      d252      d253      d254      d255  \n",
       "1   0.001316 -0.001199  0.000117 -0.001856  0.000397  0.001417 -0.000385  \n",
       "2   0.054792  0.036038 -0.072949 -0.088780  0.016240  0.055779 -0.002256  \n",
       "3  -0.005045 -0.050674 -0.029782 -0.112984  0.044356  0.028351 -0.057927  \n",
       "4   0.047523 -0.176116 -0.008825 -0.018970  0.032186 -0.062461 -0.034461  \n",
       "5   0.058562  0.035260 -0.081912 -0.218533  0.172345  0.033056 -0.091789  \n",
       "6   0.052732  0.054734 -0.073157 -0.088063  0.016789  0.067700 -0.039468  \n",
       "7  -0.036005 -0.038378 -0.059767  0.120286 -0.023134  0.097636 -0.014564  \n",
       "8  -0.023826 -0.046435 -0.002761  0.065656  0.000206 -0.111923 -0.088989  \n",
       "9   0.461153  0.152352  0.007655 -0.099795 -0.187423 -0.060404  0.103117  \n",
       "10 -0.063209  0.040568 -0.063742  0.039268  0.010968  0.018101  0.098532  \n",
       "\n",
       "[10 rows x 257 columns]"
      ]
     },
     "execution_count": 17,
     "metadata": {},
     "output_type": "execute_result"
    }
   ],
   "source": [
    "df_word_embedding.head(10)"
   ]
  },
  {
   "cell_type": "code",
   "execution_count": null,
   "metadata": {
    "collapsed": true
   },
   "outputs": [],
   "source": []
  }
 ],
 "metadata": {
  "anaconda-cloud": {},
  "kernelspec": {
   "display_name": "Python [default]",
   "language": "python",
   "name": "python3"
  },
  "language_info": {
   "codemirror_mode": {
    "name": "ipython",
    "version": 3
   },
   "file_extension": ".py",
   "mimetype": "text/x-python",
   "name": "python",
   "nbconvert_exporter": "python",
   "pygments_lexer": "ipython3",
   "version": "3.5.2"
  }
 },
 "nbformat": 4,
 "nbformat_minor": 1
}
